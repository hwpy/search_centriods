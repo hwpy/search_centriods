{
  "cells": [
    {
      "attachments": {},
      "cell_type": "markdown",
      "metadata": {},
      "source": [
        "## Для загрузки датасетов из kaggle по API необходимо положить файл kaggle.json в каталог пользователя\n",
        "команды ниже копируют json в каталог .kaggle, присваивают доступ на чтение и запись владельцу файла"
      ]
    },
    {
      "cell_type": "code",
      "execution_count": 9,
      "metadata": {
        "id": "Tjw1yi_Xjbcf"
      },
      "outputs": [],
      "source": [
        "!mkdir -p ~/.kaggle\n",
        "!cp ~/kaggle.json ~/.kaggle/\n",
        "!chmod 600 ~/.kaggle/kaggle.json"
      ]
    },
    {
      "attachments": {},
      "cell_type": "markdown",
      "metadata": {},
      "source": [
        "## Импорт библиотек и скачивание архива с датасетом"
      ]
    },
    {
      "cell_type": "code",
      "execution_count": 8,
      "metadata": {
        "colab": {
          "base_uri": "https://localhost:8080/"
        },
        "id": "JzoaVtJFjoWt",
        "outputId": "3c4665c4-c7c9-490e-ff4a-f2e69a438d1a"
      },
      "outputs": [
        {
          "name": "stdout",
          "output_type": "stream",
          "text": [
            "Warning: Your Kaggle API key is readable by other users on this system! To fix this, you can run 'chmod 600 /Users/alexey/.kaggle/kaggle.json'\n",
            "Downloading superstore-dataset-final.zip to /Users/alexey/Documents/Repositories/GitHub/search_centriods\n"
          ]
        },
        {
          "name": "stderr",
          "output_type": "stream",
          "text": [
            "100%|██████████| 550k/550k [00:01<00:00, 533kB/s]\n"
          ]
        },
        {
          "name": "stdout",
          "output_type": "stream",
          "text": [
            "\n"
          ]
        }
      ],
      "source": [
        "import kaggle.cli\n",
        "import sys\n",
        "import pandas as pd\n",
        "from pathlib import Path\n",
        "from zipfile import ZipFile\n",
        "from datetime import date, datetime\n",
        "\n",
        "dataset = \"vivek468/superstore-dataset-final\"\n",
        "sys.argv = [sys.argv[0]] + f\"datasets download {dataset}\".split(\" \")\n",
        "kaggle.cli.main()\n",
        "\n",
        "zfile = ZipFile(f\"{dataset.split('/')[1]}.zip\")\n",
        "zfile.extractall() \n",
        "zfile.close()\n",
        "\n",
        "data = pd.read_csv('superstore-dataset-final.zip', encoding_errors='ignore')"
      ]
    },
    {
      "attachments": {},
      "cell_type": "markdown",
      "metadata": {},
      "source": [
        "## Приводим поля с датами к типу date\n",
        "Отобразим несколько строк датасета и его описание"
      ]
    },
    {
      "cell_type": "code",
      "execution_count": 10,
      "metadata": {
        "colab": {
          "base_uri": "https://localhost:8080/",
          "height": 685
        },
        "id": "pF2O-qJujrd1",
        "outputId": "7665d155-4aa5-45ce-877f-bc2fc289272d"
      },
      "outputs": [
        {
          "data": {
            "text/html": [
              "<div>\n",
              "<style scoped>\n",
              "    .dataframe tbody tr th:only-of-type {\n",
              "        vertical-align: middle;\n",
              "    }\n",
              "\n",
              "    .dataframe tbody tr th {\n",
              "        vertical-align: top;\n",
              "    }\n",
              "\n",
              "    .dataframe thead th {\n",
              "        text-align: right;\n",
              "    }\n",
              "</style>\n",
              "<table border=\"1\" class=\"dataframe\">\n",
              "  <thead>\n",
              "    <tr style=\"text-align: right;\">\n",
              "      <th></th>\n",
              "      <th>row_id</th>\n",
              "      <th>order_id</th>\n",
              "      <th>order_date</th>\n",
              "      <th>ship_date</th>\n",
              "      <th>ship_mode</th>\n",
              "      <th>customer_id</th>\n",
              "      <th>customer_name</th>\n",
              "      <th>segment</th>\n",
              "      <th>country</th>\n",
              "      <th>city</th>\n",
              "      <th>...</th>\n",
              "      <th>postal_code</th>\n",
              "      <th>region</th>\n",
              "      <th>product_id</th>\n",
              "      <th>category</th>\n",
              "      <th>sub-category</th>\n",
              "      <th>product_name</th>\n",
              "      <th>sales</th>\n",
              "      <th>quantity</th>\n",
              "      <th>discount</th>\n",
              "      <th>profit</th>\n",
              "    </tr>\n",
              "  </thead>\n",
              "  <tbody>\n",
              "    <tr>\n",
              "      <th>0</th>\n",
              "      <td>1</td>\n",
              "      <td>CA-2016-152156</td>\n",
              "      <td>2016-11-08</td>\n",
              "      <td>2016-11-11</td>\n",
              "      <td>Second Class</td>\n",
              "      <td>CG-12520</td>\n",
              "      <td>Claire Gute</td>\n",
              "      <td>Consumer</td>\n",
              "      <td>United States</td>\n",
              "      <td>Henderson</td>\n",
              "      <td>...</td>\n",
              "      <td>42420</td>\n",
              "      <td>South</td>\n",
              "      <td>FUR-BO-10001798</td>\n",
              "      <td>Furniture</td>\n",
              "      <td>Bookcases</td>\n",
              "      <td>Bush Somerset Collection Bookcase</td>\n",
              "      <td>261.96</td>\n",
              "      <td>2</td>\n",
              "      <td>0.0</td>\n",
              "      <td>41.9136</td>\n",
              "    </tr>\n",
              "    <tr>\n",
              "      <th>1</th>\n",
              "      <td>2</td>\n",
              "      <td>CA-2016-152156</td>\n",
              "      <td>2016-11-08</td>\n",
              "      <td>2016-11-11</td>\n",
              "      <td>Second Class</td>\n",
              "      <td>CG-12520</td>\n",
              "      <td>Claire Gute</td>\n",
              "      <td>Consumer</td>\n",
              "      <td>United States</td>\n",
              "      <td>Henderson</td>\n",
              "      <td>...</td>\n",
              "      <td>42420</td>\n",
              "      <td>South</td>\n",
              "      <td>FUR-CH-10000454</td>\n",
              "      <td>Furniture</td>\n",
              "      <td>Chairs</td>\n",
              "      <td>Hon Deluxe Fabric Upholstered Stacking Chairs,...</td>\n",
              "      <td>731.94</td>\n",
              "      <td>3</td>\n",
              "      <td>0.0</td>\n",
              "      <td>219.5820</td>\n",
              "    </tr>\n",
              "    <tr>\n",
              "      <th>2</th>\n",
              "      <td>3</td>\n",
              "      <td>CA-2016-138688</td>\n",
              "      <td>2016-06-12</td>\n",
              "      <td>2016-06-16</td>\n",
              "      <td>Second Class</td>\n",
              "      <td>DV-13045</td>\n",
              "      <td>Darrin Van Huff</td>\n",
              "      <td>Corporate</td>\n",
              "      <td>United States</td>\n",
              "      <td>Los Angeles</td>\n",
              "      <td>...</td>\n",
              "      <td>90036</td>\n",
              "      <td>West</td>\n",
              "      <td>OFF-LA-10000240</td>\n",
              "      <td>Office Supplies</td>\n",
              "      <td>Labels</td>\n",
              "      <td>Self-Adhesive Address Labels for Typewriters b...</td>\n",
              "      <td>14.62</td>\n",
              "      <td>2</td>\n",
              "      <td>0.0</td>\n",
              "      <td>6.8714</td>\n",
              "    </tr>\n",
              "  </tbody>\n",
              "</table>\n",
              "<p>3 rows × 21 columns</p>\n",
              "</div>"
            ],
            "text/plain": [
              "   row_id        order_id order_date  ship_date     ship_mode customer_id  \\\n",
              "0       1  CA-2016-152156 2016-11-08 2016-11-11  Second Class    CG-12520   \n",
              "1       2  CA-2016-152156 2016-11-08 2016-11-11  Second Class    CG-12520   \n",
              "2       3  CA-2016-138688 2016-06-12 2016-06-16  Second Class    DV-13045   \n",
              "\n",
              "     customer_name    segment        country         city  ... postal_code  \\\n",
              "0      Claire Gute   Consumer  United States    Henderson  ...       42420   \n",
              "1      Claire Gute   Consumer  United States    Henderson  ...       42420   \n",
              "2  Darrin Van Huff  Corporate  United States  Los Angeles  ...       90036   \n",
              "\n",
              "   region       product_id         category sub-category  \\\n",
              "0   South  FUR-BO-10001798        Furniture    Bookcases   \n",
              "1   South  FUR-CH-10000454        Furniture       Chairs   \n",
              "2    West  OFF-LA-10000240  Office Supplies       Labels   \n",
              "\n",
              "                                        product_name   sales  quantity  \\\n",
              "0                  Bush Somerset Collection Bookcase  261.96         2   \n",
              "1  Hon Deluxe Fabric Upholstered Stacking Chairs,...  731.94         3   \n",
              "2  Self-Adhesive Address Labels for Typewriters b...   14.62         2   \n",
              "\n",
              "   discount    profit  \n",
              "0       0.0   41.9136  \n",
              "1       0.0  219.5820  \n",
              "2       0.0    6.8714  \n",
              "\n",
              "[3 rows x 21 columns]"
            ]
          },
          "metadata": {},
          "output_type": "display_data"
        },
        {
          "data": {
            "text/html": [
              "<div>\n",
              "<style scoped>\n",
              "    .dataframe tbody tr th:only-of-type {\n",
              "        vertical-align: middle;\n",
              "    }\n",
              "\n",
              "    .dataframe tbody tr th {\n",
              "        vertical-align: top;\n",
              "    }\n",
              "\n",
              "    .dataframe thead th {\n",
              "        text-align: right;\n",
              "    }\n",
              "</style>\n",
              "<table border=\"1\" class=\"dataframe\">\n",
              "  <thead>\n",
              "    <tr style=\"text-align: right;\">\n",
              "      <th></th>\n",
              "      <th>row_id</th>\n",
              "      <th>postal_code</th>\n",
              "      <th>sales</th>\n",
              "      <th>quantity</th>\n",
              "      <th>discount</th>\n",
              "      <th>profit</th>\n",
              "    </tr>\n",
              "  </thead>\n",
              "  <tbody>\n",
              "    <tr>\n",
              "      <th>count</th>\n",
              "      <td>9994.000000</td>\n",
              "      <td>9994.000000</td>\n",
              "      <td>9994.000000</td>\n",
              "      <td>9994.000000</td>\n",
              "      <td>9994.000000</td>\n",
              "      <td>9994.000000</td>\n",
              "    </tr>\n",
              "    <tr>\n",
              "      <th>mean</th>\n",
              "      <td>4997.500000</td>\n",
              "      <td>55190.379428</td>\n",
              "      <td>229.858001</td>\n",
              "      <td>3.789574</td>\n",
              "      <td>0.156203</td>\n",
              "      <td>28.656896</td>\n",
              "    </tr>\n",
              "    <tr>\n",
              "      <th>std</th>\n",
              "      <td>2885.163629</td>\n",
              "      <td>32063.693350</td>\n",
              "      <td>623.245101</td>\n",
              "      <td>2.225110</td>\n",
              "      <td>0.206452</td>\n",
              "      <td>234.260108</td>\n",
              "    </tr>\n",
              "    <tr>\n",
              "      <th>min</th>\n",
              "      <td>1.000000</td>\n",
              "      <td>1040.000000</td>\n",
              "      <td>0.444000</td>\n",
              "      <td>1.000000</td>\n",
              "      <td>0.000000</td>\n",
              "      <td>-6599.978000</td>\n",
              "    </tr>\n",
              "    <tr>\n",
              "      <th>25%</th>\n",
              "      <td>2499.250000</td>\n",
              "      <td>23223.000000</td>\n",
              "      <td>17.280000</td>\n",
              "      <td>2.000000</td>\n",
              "      <td>0.000000</td>\n",
              "      <td>1.728750</td>\n",
              "    </tr>\n",
              "    <tr>\n",
              "      <th>50%</th>\n",
              "      <td>4997.500000</td>\n",
              "      <td>56430.500000</td>\n",
              "      <td>54.490000</td>\n",
              "      <td>3.000000</td>\n",
              "      <td>0.200000</td>\n",
              "      <td>8.666500</td>\n",
              "    </tr>\n",
              "    <tr>\n",
              "      <th>75%</th>\n",
              "      <td>7495.750000</td>\n",
              "      <td>90008.000000</td>\n",
              "      <td>209.940000</td>\n",
              "      <td>5.000000</td>\n",
              "      <td>0.200000</td>\n",
              "      <td>29.364000</td>\n",
              "    </tr>\n",
              "    <tr>\n",
              "      <th>max</th>\n",
              "      <td>9994.000000</td>\n",
              "      <td>99301.000000</td>\n",
              "      <td>22638.480000</td>\n",
              "      <td>14.000000</td>\n",
              "      <td>0.800000</td>\n",
              "      <td>8399.976000</td>\n",
              "    </tr>\n",
              "  </tbody>\n",
              "</table>\n",
              "</div>"
            ],
            "text/plain": [
              "            row_id   postal_code         sales     quantity     discount  \\\n",
              "count  9994.000000   9994.000000   9994.000000  9994.000000  9994.000000   \n",
              "mean   4997.500000  55190.379428    229.858001     3.789574     0.156203   \n",
              "std    2885.163629  32063.693350    623.245101     2.225110     0.206452   \n",
              "min       1.000000   1040.000000      0.444000     1.000000     0.000000   \n",
              "25%    2499.250000  23223.000000     17.280000     2.000000     0.000000   \n",
              "50%    4997.500000  56430.500000     54.490000     3.000000     0.200000   \n",
              "75%    7495.750000  90008.000000    209.940000     5.000000     0.200000   \n",
              "max    9994.000000  99301.000000  22638.480000    14.000000     0.800000   \n",
              "\n",
              "            profit  \n",
              "count  9994.000000  \n",
              "mean     28.656896  \n",
              "std     234.260108  \n",
              "min   -6599.978000  \n",
              "25%       1.728750  \n",
              "50%       8.666500  \n",
              "75%      29.364000  \n",
              "max    8399.976000  "
            ]
          },
          "execution_count": 10,
          "metadata": {},
          "output_type": "execute_result"
        }
      ],
      "source": [
        "data.columns = map(str.lower, data.columns)\n",
        "data.columns = data.columns.str.replace(' ', '_')\n",
        "\n",
        "data['order_date'] = data['order_date'].apply(lambda x: datetime.strptime(x, \"%m/%d/%Y\").date()).astype('datetime64[ns]')\n",
        "data['ship_date'] = data['ship_date'].apply(lambda x: datetime.strptime(x, \"%m/%d/%Y\").date()).astype('datetime64[ns]')\n",
        "\n",
        "display(data.head(3))\n",
        "data.describe()"
      ]
    },
    {
      "attachments": {},
      "cell_type": "markdown",
      "metadata": {},
      "source": [
        "## Проставим широту и долготу, зная город и страну"
      ]
    },
    {
      "cell_type": "code",
      "execution_count": null,
      "metadata": {
        "colab": {
          "base_uri": "https://localhost:8080/"
        },
        "id": "0WbhUB7LnvXC",
        "outputId": "3a00e04f-0677-43a8-8571-29961c5777b5"
      },
      "outputs": [
        {
          "name": "stderr",
          "output_type": "stream",
          "text": [
            "/usr/local/lib/python3.8/dist-packages/geopy/geocoders/osm.py:132: UserWarning: Using Nominatim with the default \"geopy/1.17.0\" `user_agent` is strongly discouraged, as it violates Nominatim's ToS https://operations.osmfoundation.org/policies/nominatim/ and may possibly cause 403 and 429 HTTP errors. Please specify a custom `user_agent` with `Nominatim(user_agent=\"my-application\")` or by overriding the default `user_agent`: `geopy.geocoders.options.default_user_agent = \"my-application\"`. In geopy 2.0 this will become an exception.\n",
            "  warnings.warn(\n"
          ]
        }
      ],
      "source": [
        "from geopy.geocoders import Nominatim\n",
        "geolocator = Nominatim()\n",
        "# location = geolocator.geocode('Los Angeles, United States')\n",
        "# print(location.address, location.latitude, location.longitude)\n",
        "data['latitude'] = data.apply(lambda x: geolocator.geocode(x['city'], x['country']).latitude, axis=1)\n",
        "data['longitude'] = data.apply(lambda x: geolocator.geocode(x['city'], x['country']).longitude, axis=1)\n"
      ]
    },
    {
      "attachments": {},
      "cell_type": "markdown",
      "metadata": {},
      "source": [
        "## Сохраним обработанные данные"
      ]
    },
    {
      "cell_type": "code",
      "execution_count": null,
      "metadata": {
        "id": "HxIg1mFixCNw"
      },
      "outputs": [],
      "source": [
        "display(data.head(3))\n",
        "data.to_csv('superstore-dataset-processed.csv') "
      ]
    }
  ],
  "metadata": {
    "colab": {
      "provenance": []
    },
    "kernelspec": {
      "display_name": "venv",
      "language": "python",
      "name": "python3"
    },
    "language_info": {
      "codemirror_mode": {
        "name": "ipython",
        "version": 3
      },
      "file_extension": ".py",
      "mimetype": "text/x-python",
      "name": "python",
      "nbconvert_exporter": "python",
      "pygments_lexer": "ipython3",
      "version": "3.10.10"
    },
    "vscode": {
      "interpreter": {
        "hash": "6a57ccc12df23a15f0daca8b2e8b499a7ddb41ff3572d5655582a38214b2442d"
      }
    }
  },
  "nbformat": 4,
  "nbformat_minor": 0
}
